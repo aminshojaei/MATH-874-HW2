{
 "cells": [
  {
   "cell_type": "markdown",
   "metadata": {},
   "source": [
    "# Homework 2 (Math 874)\n",
    "###### Submitted by Amin Shojaeighadikolaei"
   ]
  },
  {
   "cell_type": "markdown",
   "metadata": {},
   "source": [
    "## This homework is consisiting of 3 part. \n",
    "- The first part is implementing the logistic regression. \n",
    "- Second part is solving the T-Test problem.\n",
    "- The third problem is linear model problem."
   ]
  },
  {
   "cell_type": "markdown",
   "metadata": {},
   "source": [
    "# Problem 1 : Logistic Regression\n",
    "\n",
    "##### In this project I want to apply logstic regression to MNIST dataset. The dataset is conssiting of 300 picture in which each picture is 28*28 array. 100 pictures are 1 , 100 are 4 and 100 are 8. At first I want to import libraries and then import the MNIST dataset and after that I want to plot the first 25 inputs.\n",
    "\n"
   ]
  },
  {
   "cell_type": "code",
   "execution_count": 16,
   "metadata": {},
   "outputs": [],
   "source": [
    "import numpy as np\n",
    "import matplotlib.pyplot as plt"
   ]
  },
  {
   "cell_type": "code",
   "execution_count": 17,
   "metadata": {},
   "outputs": [],
   "source": [
    "def sigmoid(z):\n",
    "    output = []\n",
    "    for s in z:\n",
    "        output.append(1 / (1 + np.exp(-s)))\n",
    "    return np.asarray(output)"
   ]
  },
  {
   "cell_type": "code",
   "execution_count": 18,
   "metadata": {},
   "outputs": [],
   "source": [
    "dataset= np.load(r'C:\\Users\\a335s717\\Desktop\\HW2\\mnist148.npz')\n",
    "new_dataset= dataset.files\n",
    "X = dataset['arr_0']\n",
    "Y = dataset['arr_1']\n",
    "Test = dataset['arr_2']"
   ]
  },
  {
   "cell_type": "code",
   "execution_count": 19,
   "metadata": {},
   "outputs": [
    {
     "name": "stdout",
     "output_type": "stream",
     "text": [
      "dimension of X is:  (300, 28, 28)\n",
      "dimension of Y is:  (300,)\n",
      "dimension of Test is:  (3, 28, 28)\n"
     ]
    }
   ],
   "source": [
    "print('dimension of X is: ',X.shape)\n",
    "print('dimension of Y is: ',Y.shape)\n",
    "print('dimension of Test is: ',Test.shape)"
   ]
  },
  {
   "cell_type": "code",
   "execution_count": 20,
   "metadata": {},
   "outputs": [
    {
     "data": {
      "image/png": "[encoded data removed]",
      "text/plain": [
       "<Figure size 432x288 with 25 Axes>"
      ]
     },
     "metadata": {},
     "output_type": "display_data"
    }
   ],
   "source": [
    "for c in range(25):\n",
    "    plt.subplot(5,5,c+1)\n",
    "    plt.imshow(X[c])\n",
    "    plt.xticks([])\n",
    "    plt.yticks([])\n",
    "    plt.xlabel('MNIST'+str(c+1))"
   ]
  },
  {
   "cell_type": "markdown",
   "metadata": {},
   "source": [
    "###### Now I want to reshape the input to change the matrix to array and then since the output is categorical I want to use onehot encoding for Input and output."
   ]
  },
  {
   "cell_type": "code",
   "execution_count": 6,
   "metadata": {},
   "outputs": [],
   "source": [
    "Input = []\n",
    "Output=[]\n",
    "count = np.zeros((10))\n",
    "w = np.random.random((28 * 28, 3))\n",
    "for x, y in zip(X,Y):\n",
    "    if y in [1, 4, 8]:\n",
    "        Input.append(x.reshape((28 * 28)) / 255)\n",
    "        count[y] += 1\n",
    "        \n",
    "        if y == [1]:\n",
    "            y = [1, 0, 0]\n",
    "        elif y == [4]:\n",
    "            y = [0, 1, 0]\n",
    "        elif y == [8]:\n",
    "            y = [0, 0, 1]   \n",
    "        Output.append(y)"
   ]
  },
  {
   "cell_type": "markdown",
   "metadata": {},
   "source": [
    "###### One of the array from MNIST dataset was 3 pictures for test. Now I want to prepare the test array."
   ]
  },
  {
   "cell_type": "code",
   "execution_count": 21,
   "metadata": {},
   "outputs": [],
   "source": [
    "x_test=[]\n",
    "for x in Test :\n",
    "    x_test.append(x.reshape((28 * 28)) / 255)"
   ]
  },
  {
   "cell_type": "code",
   "execution_count": 8,
   "metadata": {},
   "outputs": [],
   "source": [
    "samples = np.asarray(Input)\n",
    "labels = np.asarray(Output)\n",
    "test = np.asarray(x_test)\n",
    "\n",
    "X_train = samples\n",
    "Y_train = labels\n",
    "X_Test = test"
   ]
  },
  {
   "cell_type": "markdown",
   "metadata": {},
   "source": [
    "###### Now I want to implement the logistic regression. In this step, at first I will calculate the product of input and initial value for weights. Then with calculating the X^T (Y-P) to update the next weights."
   ]
  },
  {
   "cell_type": "code",
   "execution_count": 9,
   "metadata": {},
   "outputs": [
    {
     "name": "stdout",
     "output_type": "stream",
     "text": [
      "Error: 0.66666667\n",
      "Error: 0.66666666\n",
      "Error: 0.66666666\n",
      "Error: 0.66666666\n",
      "Error: 0.66666666\n",
      "Error: 0.66666666\n",
      "Error: 0.66666666\n",
      "Error: 0.66666666\n",
      "Error: 0.66666665\n",
      "Error: 0.66666664\n",
      "Error: 0.66666664\n",
      "Error: 0.66666662\n",
      "Error: 0.66666661\n",
      "Error: 0.66666658\n",
      "Error: 0.66666655\n",
      "Error: 0.66666650\n",
      "Error: 0.66666643\n",
      "Error: 0.66666634\n",
      "Error: 0.66666620\n",
      "Error: 0.66666600\n",
      "Error: 0.66666572\n",
      "Error: 0.66666531\n",
      "Error: 0.66666472\n",
      "Error: 0.66666386\n",
      "Error: 0.66666261\n",
      "Error: 0.66666078\n",
      "Error: 0.66665808\n",
      "Error: 0.66665407\n",
      "Error: 0.66664808\n",
      "Error: 0.66663907\n",
      "Error: 0.66662541\n",
      "Error: 0.66660456\n",
      "Error: 0.66657245\n",
      "Error: 0.66652264\n",
      "Error: 0.66644481\n",
      "Error: 0.66632249\n",
      "Error: 0.66612957\n",
      "Error: 0.66582527\n",
      "Error: 0.66534728\n",
      "Error: 0.66460320\n",
      "Error: 0.66346049\n",
      "Error: 0.66173799\n",
      "Error: 0.65920964\n",
      "Error: 0.65563649\n",
      "Error: 0.65083417\n",
      "Error: 0.64477501\n",
      "Error: 0.63769669\n",
      "Error: 0.63009594\n",
      "Error: 0.62252132\n",
      "Error: 0.61533824\n",
      "Error: 0.60866591\n",
      "Error: 0.60241357\n",
      "Error: 0.59631890\n",
      "Error: 0.59000603\n",
      "Error: 0.58305680\n",
      "Error: 0.57505116\n",
      "Error: 0.56557089\n",
      "Error: 0.55416577\n",
      "Error: 0.54030007\n",
      "Error: 0.52345672\n",
      "Error: 0.50347183\n",
      "Error: 0.48077054\n",
      "Error: 0.45625626\n",
      "Error: 0.43103826\n",
      "Error: 0.40614279\n",
      "Error: 0.38230428\n",
      "Error: 0.35992585\n",
      "Error: 0.33916380\n",
      "Error: 0.32001990\n",
      "Error: 0.30239837\n",
      "Error: 0.28614925\n",
      "Error: 0.27110751\n",
      "Error: 0.25712139\n",
      "Error: 0.24406617\n",
      "Error: 0.23184538\n",
      "Error: 0.22038446\n",
      "Error: 0.20962178\n",
      "Error: 0.19950125\n",
      "Error: 0.18996839\n",
      "Error: 0.18097021\n",
      "Error: 0.17245801\n",
      "Error: 0.16439122\n",
      "Error: 0.15674017\n",
      "Error: 0.14948598\n",
      "Error: 0.14261763\n",
      "Error: 0.13612728\n",
      "Error: 0.13000625\n",
      "Error: 0.12424250\n",
      "Error: 0.11882018\n",
      "Error: 0.11372022\n",
      "Error: 0.10892145\n",
      "Error: 0.10440179\n",
      "Error: 0.10013916\n",
      "Error: 0.09611232\n",
      "Error: 0.09230157\n",
      "Error: 0.08868915\n",
      "Error: 0.08525953\n",
      "Error: 0.08199940\n",
      "Error: 0.07889750\n",
      "Error: 0.07594423\n",
      "Error: 0.07313134\n",
      "Error: 0.07045149\n",
      "Error: 0.06789798\n",
      "Error: 0.06546455\n",
      "Error: 0.06314517\n",
      "Error: 0.06093407\n",
      "Error: 0.05882562\n",
      "Error: 0.05681445\n",
      "Error: 0.05489535\n",
      "Error: 0.05306340\n",
      "Error: 0.05131390\n",
      "Error: 0.04964241\n"
     ]
    }
   ],
   "source": [
    "alpha = 0.0001\n",
    "while True:\n",
    "    yBar = np.dot(X_train, w)\n",
    "    yBar = sigmoid(yBar)\n",
    "    error = Y_train - yBar\n",
    "    delta = np.dot(X_train.T, error)\n",
    "    w += alpha * delta\n",
    "    Error = np.abs(np.mean(error))\n",
    "    print('Error: %.8f' % Error)\n",
    "    if Error < 0.05:\n",
    "        break"
   ]
  },
  {
   "cell_type": "markdown",
   "metadata": {},
   "source": [
    "###### Now I want to test the model. From the MNIST dataset we know that 'aar_2' is the test. At first I want to plot the test samples."
   ]
  },
  {
   "cell_type": "code",
   "execution_count": 10,
   "metadata": {},
   "outputs": [
    {
     "data": {
      "image/png": "[encoded data removed]",
      "text/plain": [
       "<Figure size 432x288 with 3 Axes>"
      ]
     },
     "metadata": {},
     "output_type": "display_data"
    }
   ],
   "source": [
    "for c in range(3):\n",
    "    plt.subplot(2,2,c+1)\n",
    "    plt.imshow(Test[c])\n",
    "    plt.xticks([])\n",
    "    plt.yticks([])\n",
    "    plt.xlabel('Sample test'+str(c+1))\n"
   ]
  },
  {
   "cell_type": "markdown",
   "metadata": {},
   "source": [
    "###### Now I want to calculate the output with the updated weights. In hence, Y=X.B. Then, I want to show the result that each input is related to which output. For doing this just note :\n",
    "- Class 0 is showing 1\n",
    "- Class 1 is showing 4\n",
    "- Class 2 is showing 8"
   ]
  },
  {
   "cell_type": "code",
   "execution_count": 11,
   "metadata": {},
   "outputs": [
    {
     "name": "stdout",
     "output_type": "stream",
     "text": [
      " predicted class for first sample is:  0\n",
      " predicted class for second sample is:  1\n",
      " predicted class for third sample is:  2\n"
     ]
    }
   ],
   "source": [
    "Y_Test = np.dot(X_Test[0] , w)\n",
    "print(' predicted class for first sample is:  %d' % ( np.argmax(Y_Test)))\n",
    "Y_Test = np.dot(X_Test[1] , w)\n",
    "print(' predicted class for second sample is:  %d' % ( np.argmax(Y_Test)))\n",
    "Y_Test = np.dot(X_Test[2] , w)\n",
    "print(' predicted class for third sample is:  %d' % ( np.argmax(Y_Test)))"
   ]
  },
  {
   "cell_type": "markdown",
   "metadata": {},
   "source": [
    "# Problem 2: T_Test problem"
   ]
  },
  {
   "cell_type": "code",
   "execution_count": 12,
   "metadata": {},
   "outputs": [],
   "source": [
    "import numpy as np\n",
    "from scipy import stats\n",
    "\n",
    "\n",
    "z= np.random.normal(2, np.sqrt(5),25)\n",
    "T= (np.mean(z) -2)/ np.sqrt(5/25)\n",
    "P_value = stats.t.cdf(T, df=24)"
   ]
  },
  {
   "cell_type": "code",
   "execution_count": 13,
   "metadata": {},
   "outputs": [
    {
     "name": "stdout",
     "output_type": "stream",
     "text": [
      "The cdf value for this array is:  0.7806760701919795\n"
     ]
    }
   ],
   "source": [
    "print('The cdf value for this array is: ',P_value)"
   ]
  },
  {
   "cell_type": "markdown",
   "metadata": {},
   "source": [
    "# Problem 3: Linear model\n",
    "\n",
    " - In this problem I just want to calculate the ((X^T)X)^(-1)(X^T)Y . At first I want to create a 100*4 matrix for inputs with U(0,1) distribution and a 100*1 matrix for Y with N(0,1) distrubution."
   ]
  },
  {
   "cell_type": "code",
   "execution_count": 14,
   "metadata": {},
   "outputs": [
    {
     "data": {
      "text/plain": [
       "array([ 0.14368385, -0.34886514, -0.0479501 ,  0.35701398])"
      ]
     },
     "execution_count": 14,
     "metadata": {},
     "output_type": "execute_result"
    }
   ],
   "source": [
    "import numpy as np\n",
    "\n",
    "Y= np.random.normal(0, np.sqrt(1),100)\n",
    "\n",
    "X = np.random.uniform(-1,0,[100,4])\n",
    "\n",
    "bHat = np.dot (np.dot ( np.linalg.inv(np.dot(X.T , X)) , X.T) , Y)\n",
    "bHat"
   ]
  },
  {
   "cell_type": "code",
   "execution_count": null,
   "metadata": {},
   "outputs": [],
   "source": []
  }
 ],
 "metadata": {
  "kernelspec": {
   "display_name": "Python 3",
   "language": "python",
   "name": "python3"
  },
  "language_info": {
   "codemirror_mode": {
    "name": "ipython",
    "version": 3
   },
   "file_extension": ".py",
   "mimetype": "text/x-python",
   "name": "python",
   "nbconvert_exporter": "python",
   "pygments_lexer": "ipython3",
   "version": "3.7.3"
  }
 },
 "nbformat": 4,
 "nbformat_minor": 2
}
